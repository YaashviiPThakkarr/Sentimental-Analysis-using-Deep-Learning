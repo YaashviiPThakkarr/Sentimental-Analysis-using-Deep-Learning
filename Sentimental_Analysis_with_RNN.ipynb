{
  "cells": [
    {
      "cell_type": "markdown",
      "metadata": {
        "id": "30VnsETuDlxM"
      },
      "source": [
        "# Sentiment Analysis with IMDb Reviews\n",
        "\n",
        "\n",
        "I have trained an LSTM model for sentiment analysis with IMDB reviews. This is a binary classification task: for each review, I classify it as having positive or negative sentiment."
      ]
    },
    {
      "cell_type": "code",
      "execution_count": null,
      "metadata": {
        "id": "_KMlvdcTDlxP"
      },
      "outputs": [],
      "source": [
        "%matplotlib inline\n",
        "import matplotlib.pyplot as plt\n",
        "import numpy as np\n",
        "\n",
        "# the next two lines are needed on my Intel-based MacBook Air to get the code to run; you likely don't need these two lines...\n",
        "# (in fact I used to not need these two lines)\n",
        "import os\n",
        "os.environ['KMP_DUPLICATE_LIB_OK'] = 'True'\n",
        "\n",
        "import torch\n",
        "import torch.nn as nn\n",
        "from torchsummaryX import summary\n",
        "\n",
        "from UDA_pytorch_utils import UDA_LSTMforSequential, UDA_pytorch_classifier_fit, \\\n",
        "    UDA_plot_train_val_accuracy_vs_epoch, UDA_pytorch_classifier_predict, \\\n",
        "    UDA_compute_accuracy"
      ]
    },
    {
      "cell_type": "markdown",
      "metadata": {
        "id": "smw6WW0hDlxQ"
      },
      "source": [
        "## Load the dataset"
      ]
    },
    {
      "cell_type": "code",
      "execution_count": null,
      "metadata": {
        "id": "X49EYbQKDlxR",
        "outputId": "f46a5661-8a99-4ed3-9b27-447a4ac5b7a3"
      },
      "outputs": [
        {
          "data": {
            "text/plain": [
              "<torch._C.Generator at 0x2923e335a30>"
            ]
          },
          "execution_count": 2,
          "metadata": {},
          "output_type": "execute_result"
        }
      ],
      "source": [
        "from torchnlp.datasets import imdb_dataset\n",
        "torch.manual_seed(0)"
      ]
    },
    {
      "cell_type": "code",
      "execution_count": null,
      "metadata": {
        "id": "nf6avqOtDlxT"
      },
      "outputs": [],
      "source": [
        "train_dataset = imdb_dataset(train=True)"
      ]
    },
    {
      "cell_type": "code",
      "execution_count": null,
      "metadata": {
        "id": "aQQQEisGDlxT",
        "outputId": "49729738-bd8c-4664-b49c-b5f27b22dc50"
      },
      "outputs": [
        {
          "data": {
            "text/plain": [
              "25000"
            ]
          },
          "execution_count": 4,
          "metadata": {},
          "output_type": "execute_result"
        }
      ],
      "source": [
        "len(train_dataset)"
      ]
    },
    {
      "cell_type": "code",
      "execution_count": null,
      "metadata": {
        "id": "gxJylOBuDlxU"
      },
      "outputs": [],
      "source": [
        "proper_train_size = int(len(train_dataset) * 0.8)\n",
        "val_size = len(train_dataset) - proper_train_size"
      ]
    },
    {
      "cell_type": "code",
      "execution_count": null,
      "metadata": {
        "id": "1fKPunSyDlxU"
      },
      "outputs": [],
      "source": [
        "proper_train_dataset, val_dataset = torch.utils.data.random_split(train_dataset,\n",
        "                                                                  [proper_train_size,\n",
        "                                                                   val_size])"
      ]
    },
    {
      "cell_type": "code",
      "execution_count": null,
      "metadata": {
        "id": "6YrZe3huDlxV",
        "outputId": "0d379928-d9d8-4db2-e763-796d9b55a077"
      },
      "outputs": [
        {
          "data": {
            "text/plain": [
              "dict"
            ]
          },
          "execution_count": 7,
          "metadata": {},
          "output_type": "execute_result"
        }
      ],
      "source": [
        "type(proper_train_dataset[0])"
      ]
    },
    {
      "cell_type": "code",
      "execution_count": null,
      "metadata": {
        "id": "BHaEXkacDlxV"
      },
      "outputs": [],
      "source": [
        "from torchnlp.encoders.text import SpacyEncoder"
      ]
    },
    {
      "cell_type": "code",
      "execution_count": null,
      "metadata": {
        "scrolled": true,
        "id": "6CW-vl2YDlxV"
      },
      "outputs": [],
      "source": [
        "import spacy\n",
        "nlp = spacy.load(\"en_core_web_sm\")\n",
        "encoder = SpacyEncoder([data['text'] for data in proper_train_dataset])"
      ]
    },
    {
      "cell_type": "code",
      "execution_count": null,
      "metadata": {
        "id": "JHsPMyImDlxW"
      },
      "outputs": [],
      "source": [
        "proper_train_encoded = [encoder.encode(data['text']) for data in proper_train_dataset]"
      ]
    },
    {
      "cell_type": "code",
      "execution_count": null,
      "metadata": {
        "id": "-wJrHVuODlxW",
        "outputId": "ba10557a-64e7-4faa-b2c1-6249e12418fd"
      },
      "outputs": [
        {
          "data": {
            "text/plain": [
              "20000"
            ]
          },
          "execution_count": 35,
          "metadata": {},
          "output_type": "execute_result"
        }
      ],
      "source": [
        "len(proper_train_encoded)"
      ]
    },
    {
      "cell_type": "code",
      "execution_count": null,
      "metadata": {
        "id": "nM-NdQ72DlxX",
        "outputId": "36d64b11-08db-48ef-a33f-c4aa663dea58"
      },
      "outputs": [
        {
          "data": {
            "text/plain": [
              "tensor([149, 150, 151,  24, 152, 153,  12, 154, 155, 156, 157,  34, 158,  39,\n",
              "        159,  34, 160, 161, 133,  85, 162, 163, 164, 165, 166, 167, 168,  22,\n",
              "        169,  85,  25,  85, 155, 101,  85, 170, 171, 172,  10, 173, 174,  10,\n",
              "         85, 175,  34, 176, 177, 178, 179,  22, 180, 156, 181,  17, 182, 161,\n",
              "        183, 184, 185, 111,  20, 186,  39,  85,  76,  19,  85, 187, 188, 189,\n",
              "        190, 191,  34, 192,  19, 154, 155, 193, 194,  24, 152,  22, 195, 196,\n",
              "         34, 149, 197,  10, 198, 199,  19,  85, 200, 129, 154, 159,  34, 201,\n",
              "        202,  19,  85,  25,  64, 203, 204, 177, 205, 188, 206, 207, 208, 209,\n",
              "        210, 211,  34, 201,  85, 212, 213,  64, 103,  24,  25,  64, 214, 215,\n",
              "        216,  94, 217, 218,  19,  85, 219, 220, 156, 221, 155, 222, 223, 161,\n",
              "        224, 225, 188, 226, 188, 227,  22, 228,  64,  17, 229, 230, 231,  19,\n",
              "        232,  15, 118, 233, 234, 235, 236, 237, 133, 238,  22,  56, 239, 101,\n",
              "         85, 152, 240,  39, 241,  10, 235, 242,  10, 243, 237, 133,  17,  81,\n",
              "        156, 244,  69, 245, 246,  39, 247,  10, 243, 248, 237, 161,  22])"
            ]
          },
          "execution_count": 23,
          "metadata": {},
          "output_type": "execute_result"
        }
      ],
      "source": [
        "proper_train_encoded[1]"
      ]
    },
    {
      "cell_type": "code",
      "execution_count": null,
      "metadata": {
        "id": "yWimt7VKDlxX",
        "outputId": "5526fc70-bc5a-45c4-c4ff-ef9c078061d0"
      },
      "outputs": [
        {
          "name": "stdout",
          "output_type": "stream",
          "text": [
            "['I', 'just', 'saw', 'this', 'movie', 'today', 'with', 'my', 'children', '(', 'son', ',', '10', 'and', 'daughter', ',', '4.5', ')', 'at', 'the', '3rd', 'Annual', 'Roger', 'Ebert', 'Overlooked', 'Film', 'Festival', '.', 'After', 'the', 'film', 'the', 'children', 'in', 'the', 'audience', 'were', 'allowed', 'to', 'ask', 'questions', 'to', 'the', 'Director', ',', 'Tian', '-', 'Ming', 'Wu', '.', 'He', '(', 'through', 'a', 'translator', ')', 'told', 'several', 'stories', 'about', 'his', 'life', 'and', 'the', 'making', 'of', 'the', 'film.<br', '/><br', '/>All', 'tangents', 'aside', ',', 'both', 'of', 'my', 'children', 'really', 'enjoyed', 'this', 'movie', '.', 'Of', 'course', ',', 'I', 'had', 'to', 'paraphrase', 'many', 'of', 'the', 'subtitles', 'for', 'my', 'daughter', ',', 'but', 'much', 'of', 'the', 'film', 'is', 'visually', 'self', '-', 'explanatory.<br', '/><br', '/>I', 'wo', \"n't\", 'give', 'anything', 'away', ',', 'but', 'the', 'bottom', 'line', 'is', 'that', 'this', 'film', 'is', 'SO', 'MUCH', 'better', 'than', '95', '%', 'of', 'the', 'Hollywood', 'crap', '(', 'especially', 'children', \"'s\", 'films', ')', 'out', 'there.<br', '/><br', '/>Cheers.<br', '/><br', '/>p.s', '.', 'There', 'is', 'a', '\"', 'real\"/original', 'King', 'of', 'Masks', 'who', 'can', '/', 'could', 'do', '12', 'masks', 'at', 'once', '.', 'The', 'actor', 'in', 'the', 'movie', 'trained', 'and', 'learned', 'to', 'do', 'up', 'to', '4', 'masks', 'at', 'a', 'time', '(', 'then', 'they', 'would', 'cut', 'and', 'change', 'to', '4', 'new', 'masks', ')', '.']\n"
          ]
        }
      ],
      "source": [
        "print([encoder.vocab[word_idx] for word_idx in proper_train_encoded[1]])"
      ]
    },
    {
      "cell_type": "code",
      "execution_count": null,
      "metadata": {
        "id": "Q8t6hJ9ZDlxY"
      },
      "outputs": [],
      "source": [
        "proper_train_labels = torch.tensor([int(data['sentiment'] == 'pos')\n",
        "                                    for data in proper_train_dataset])"
      ]
    },
    {
      "cell_type": "code",
      "execution_count": null,
      "metadata": {
        "id": "UsqK0IjSDlxZ"
      },
      "outputs": [],
      "source": [
        "val_encoded = [encoder.encode(data['text']) for data in val_dataset]"
      ]
    },
    {
      "cell_type": "code",
      "execution_count": null,
      "metadata": {
        "id": "lwoXGaXhDlxZ"
      },
      "outputs": [],
      "source": [
        "val_labels = torch.tensor([int(data['sentiment'] == 'pos') for data in val_dataset])"
      ]
    },
    {
      "cell_type": "code",
      "execution_count": null,
      "metadata": {
        "id": "LwgI0dyVDlxZ"
      },
      "outputs": [],
      "source": [
        "proper_train_dataset_encoded = list(zip(proper_train_encoded, proper_train_labels))\n",
        "val_dataset_encoded = list(zip(val_encoded, val_labels))"
      ]
    },
    {
      "cell_type": "markdown",
      "metadata": {
        "id": "-JXT7t4uDlxZ"
      },
      "source": [
        "## Setting up a recurrent neural net for sentiment analysis that uses pre-trained word embeddings"
      ]
    },
    {
      "cell_type": "markdown",
      "metadata": {
        "id": "LEKbxkRLDlxa"
      },
      "source": [
        "We first load in pre-trained GloVe embeddings only for tokens that we encountered in the proper training data."
      ]
    },
    {
      "cell_type": "code",
      "execution_count": null,
      "metadata": {
        "id": "w77Vd7IyDlxa"
      },
      "outputs": [],
      "source": [
        "from torchnlp.word_to_vector import GloVe\n",
        "pretrained_embedding = GloVe(name='6B', dim=100)"
      ]
    },
    {
      "cell_type": "code",
      "execution_count": null,
      "metadata": {
        "id": "DbsqcJZkDlxa",
        "outputId": "fe4b6cef-0c44-49ea-e869-d13475e2393b"
      },
      "outputs": [
        {
          "ename": "NameError",
          "evalue": "name 'pretrained_embedding' is not defined",
          "output_type": "error",
          "traceback": [
            "\u001b[1;31m---------------------------------------------------------------------------\u001b[0m",
            "\u001b[1;31mNameError\u001b[0m                                 Traceback (most recent call last)",
            "\u001b[1;32m<ipython-input-30-5000b7895837>\u001b[0m in \u001b[0;36m<module>\u001b[1;34m\u001b[0m\n\u001b[1;32m----> 1\u001b[1;33m \u001b[0mtype\u001b[0m\u001b[1;33m(\u001b[0m\u001b[0mpretrained_embedding\u001b[0m\u001b[1;33m)\u001b[0m\u001b[1;33m\u001b[0m\u001b[1;33m\u001b[0m\u001b[0m\n\u001b[0m",
            "\u001b[1;31mNameError\u001b[0m: name 'pretrained_embedding' is not defined"
          ]
        }
      ],
      "source": [
        "type(pretrained_embedding)"
      ]
    },
    {
      "cell_type": "code",
      "execution_count": null,
      "metadata": {
        "id": "Gx5d4dCkDlxb",
        "outputId": "d68dccf1-4448-4d3d-d5d1-ed9f2961a686"
      },
      "outputs": [
        {
          "data": {
            "text/plain": [
              "tensor([ 0.2309,  0.2828,  0.6318, -0.5941, -0.5860,  0.6326,  0.2440, -0.1411,\n",
              "         0.0608, -0.7898, -0.2910,  0.1429,  0.7227,  0.2043,  0.1407,  0.9876,\n",
              "         0.5253,  0.0975,  0.8822,  0.5122,  0.4020,  0.2117, -0.0131, -0.7162,\n",
              "         0.5539,  1.1452, -0.8804, -0.5022, -0.2281,  0.0239,  0.1072,  0.0837,\n",
              "         0.5501,  0.5848,  0.7582,  0.4571, -0.2800,  0.2522,  0.6896, -0.6097,\n",
              "         0.1958,  0.0442, -0.3114, -0.6883, -0.2272,  0.4618, -0.7716,  0.1021,\n",
              "         0.5564,  0.0674, -0.5721,  0.2374,  0.4717,  0.8277, -0.2926, -1.3422,\n",
              "        -0.0993,  0.2814,  0.4160,  0.1058,  0.6220,  0.8950, -0.2345,  0.5135,\n",
              "         0.9938,  1.1846, -0.1636,  0.2065,  0.7385,  0.2406, -0.9647,  0.1348,\n",
              "        -0.0072,  0.3302, -0.1236,  0.2719, -0.4095,  0.0219, -0.6069,  0.4076,\n",
              "         0.1957, -0.4180,  0.1864, -0.0327, -0.7857, -0.1385,  0.0440, -0.0844,\n",
              "         0.0491,  0.2410,  0.4527, -0.1868,  0.4618,  0.0891, -0.1819, -0.0152,\n",
              "        -0.7368, -0.1453,  0.1510, -0.7149])"
            ]
          },
          "execution_count": 19,
          "metadata": {},
          "output_type": "execute_result"
        }
      ],
      "source": [
        "pretrained_embedding['cat']"
      ]
    },
    {
      "cell_type": "code",
      "execution_count": null,
      "metadata": {
        "id": "uobAZvvmDlxb"
      },
      "outputs": [],
      "source": [
        "embedding_weights = torch.Tensor(encoder.vocab_size, pretrained_embedding.dim)\n",
        "for i, token in enumerate(encoder.vocab):\n",
        "    embedding_weights[i] = pretrained_embedding[token]"
      ]
    },
    {
      "cell_type": "code",
      "execution_count": null,
      "metadata": {
        "id": "P5UksrmkDlxb"
      },
      "outputs": [],
      "source": [
        "simple_lstm_model = nn.Linear(184,2)(nn.Embedding.from_pretrained(embedding_weights),\n",
        "                                  UDA_LSTMforSequential(100, 64),\n",
        "                                  nn.Linear(64, 2))"
      ]
    },
    {
      "cell_type": "code",
      "execution_count": null,
      "metadata": {
        "id": "ceV7VQZiDlxc",
        "outputId": "a183a973-1ba3-468f-982d-d2bc6e0e0ef8"
      },
      "outputs": [
        {
          "name": "stdout",
          "output_type": "stream",
          "text": [
            "==============================================================\n",
            "                 Kernel Shape Output Shape   Params Mult-Adds\n",
            "Layer                                                        \n",
            "0_0             [100, 109065]  [1, 5, 100]        -         -\n",
            "1_1.LSTM_model              -   [1, 5, 64]  42.496k   41.984k\n",
            "2_2                   [64, 2]       [1, 2]    130.0     128.0\n",
            "--------------------------------------------------------------\n",
            "                          Totals\n",
            "Total params          10.949126M\n",
            "Trainable params         42.626k\n",
            "Non-trainable params    10.9065M\n",
            "Mult-Adds                42.112k\n",
            "==============================================================\n"
          ]
        },
        {
          "data": {
            "text/html": [
              "<div>\n",
              "<style scoped>\n",
              "    .dataframe tbody tr th:only-of-type {\n",
              "        vertical-align: middle;\n",
              "    }\n",
              "\n",
              "    .dataframe tbody tr th {\n",
              "        vertical-align: top;\n",
              "    }\n",
              "\n",
              "    .dataframe thead th {\n",
              "        text-align: right;\n",
              "    }\n",
              "</style>\n",
              "<table border=\"1\" class=\"dataframe\">\n",
              "  <thead>\n",
              "    <tr style=\"text-align: right;\">\n",
              "      <th></th>\n",
              "      <th>Kernel Shape</th>\n",
              "      <th>Output Shape</th>\n",
              "      <th>Params</th>\n",
              "      <th>Mult-Adds</th>\n",
              "    </tr>\n",
              "    <tr>\n",
              "      <th>Layer</th>\n",
              "      <th></th>\n",
              "      <th></th>\n",
              "      <th></th>\n",
              "      <th></th>\n",
              "    </tr>\n",
              "  </thead>\n",
              "  <tbody>\n",
              "    <tr>\n",
              "      <th>0_0</th>\n",
              "      <td>[100, 109065]</td>\n",
              "      <td>[1, 5, 100]</td>\n",
              "      <td>NaN</td>\n",
              "      <td>NaN</td>\n",
              "    </tr>\n",
              "    <tr>\n",
              "      <th>1_1.LSTM_model</th>\n",
              "      <td>-</td>\n",
              "      <td>[1, 5, 64]</td>\n",
              "      <td>42496.0</td>\n",
              "      <td>41984.0</td>\n",
              "    </tr>\n",
              "    <tr>\n",
              "      <th>2_2</th>\n",
              "      <td>[64, 2]</td>\n",
              "      <td>[1, 2]</td>\n",
              "      <td>130.0</td>\n",
              "      <td>128.0</td>\n",
              "    </tr>\n",
              "  </tbody>\n",
              "</table>\n",
              "</div>"
            ],
            "text/plain": [
              "                 Kernel Shape Output Shape   Params  Mult-Adds\n",
              "Layer                                                         \n",
              "0_0             [100, 109065]  [1, 5, 100]      NaN        NaN\n",
              "1_1.LSTM_model              -   [1, 5, 64]  42496.0    41984.0\n",
              "2_2                   [64, 2]       [1, 2]    130.0      128.0"
            ]
          },
          "execution_count": 22,
          "metadata": {},
          "output_type": "execute_result"
        }
      ],
      "source": [
        "summary(simple_lstm_model, torch.zeros((1, 5), dtype=torch.long))"
      ]
    },
    {
      "cell_type": "code",
      "execution_count": null,
      "metadata": {
        "id": "xCCxywQ2Dlxc",
        "outputId": "0fa993c6-98ac-46a6-90c2-fe9b43712ff0"
      },
      "outputs": [
        {
          "name": "stdout",
          "output_type": "stream",
          "text": [
            "Epoch 1 [==================================================] 20000/20000\n",
            "  Train accuracy: 0.5284\n",
            "  Validation accuracy: 0.5164\n",
            "Epoch 2 [==================================================] 20000/20000\n",
            "  Train accuracy: 0.7291\n",
            "  Validation accuracy: 0.7236\n",
            "Epoch 3 [==================================================] 20000/20000\n",
            "  Train accuracy: 0.8312\n",
            "  Validation accuracy: 0.8204\n",
            "Epoch 4 [==================================================] 20000/20000\n",
            "  Train accuracy: 0.6977\n",
            "  Validation accuracy: 0.6862\n",
            "Epoch 5 [==================================================] 20000/20000\n",
            "  Train accuracy: 0.7166\n",
            "  Validation accuracy: 0.7000\n",
            "Epoch 6 [==================================================] 20000/20000\n",
            "  Train accuracy: 0.7091\n",
            "  Validation accuracy: 0.6968\n",
            "Epoch 7 [==================================================] 20000/20000\n",
            "  Train accuracy: 0.8953\n",
            "  Validation accuracy: 0.8510\n",
            "Epoch 8 [==================================================] 20000/20000\n",
            "  Train accuracy: 0.9022\n",
            "  Validation accuracy: 0.8490\n",
            "Epoch 9 [==================================================] 20000/20000\n",
            "  Train accuracy: 0.8565\n",
            "  Validation accuracy: 0.8350\n",
            "Epoch 10 [==================================================] 20000/20000\n",
            "  Train accuracy: 0.8714\n",
            "  Validation accuracy: 0.8446\n"
          ]
        },
        {
          "data": {
            "image/png": "[encoded data removed]",
            "text/plain": [
              "<Figure size 432x288 with 1 Axes>"
            ]
          },
          "metadata": {
            "needs_background": "light"
          },
          "output_type": "display_data"
        }
      ],
      "source": [
        "num_epochs = 10  # during optimization, how many times we look at training data\n",
        "batch_size = 64  # during optimization, how many training data to use at each step\n",
        "learning_rate = 0.01  # during optimization, how much we nudge our solution at each step\n",
        "\n",
        "train_accuracies, val_accuracies = \\\n",
        "    UDA_pytorch_classifier_fit(simple_lstm_model,\n",
        "                               torch.optim.Adam(simple_lstm_model.parameters(),\n",
        "                                                lr=learning_rate),\n",
        "                               nn.CrossEntropyLoss(),  # includes softmax\n",
        "                               proper_train_dataset_encoded, val_dataset_encoded,\n",
        "                               num_epochs, batch_size,\n",
        "                               sequence=True)\n",
        "\n",
        "UDA_plot_train_val_accuracy_vs_epoch(train_accuracies, val_accuracies)"
      ]
    },
    {
      "cell_type": "markdown",
      "metadata": {
        "id": "RWVCoROjDlxd"
      },
      "source": [
        "## Finally evaluate on test data"
      ]
    },
    {
      "cell_type": "code",
      "execution_count": null,
      "metadata": {
        "id": "-Vj20zw3Dlxd"
      },
      "outputs": [],
      "source": [
        "test_dataset = imdb_dataset(train=False, test=True)"
      ]
    },
    {
      "cell_type": "code",
      "execution_count": null,
      "metadata": {
        "id": "pKAwQujTDlxe"
      },
      "outputs": [],
      "source": [
        "test_encoded = [encoder.encode(data['text']) for data in test_dataset]"
      ]
    },
    {
      "cell_type": "code",
      "execution_count": null,
      "metadata": {
        "id": "YpmNPC9vDlxe"
      },
      "outputs": [],
      "source": [
        "test_labels = torch.tensor([int(data['sentiment'] == 'pos') for data in test_dataset])"
      ]
    },
    {
      "cell_type": "code",
      "execution_count": null,
      "metadata": {
        "id": "LzR9gnRSDlxe"
      },
      "outputs": [],
      "source": [
        "predicted_test_labels = UDA_pytorch_classifier_predict(simple_lstm_model,\n",
        "                                                       test_encoded,\n",
        "                                                       sequence=True)"
      ]
    },
    {
      "cell_type": "code",
      "execution_count": null,
      "metadata": {
        "id": "FGjDGxXMDlxe",
        "outputId": "3e8dfbeb-c4e6-481a-dc05-700107970aef"
      },
      "outputs": [
        {
          "name": "stdout",
          "output_type": "stream",
          "text": [
            "Test accuracy: 0.84568\n"
          ]
        }
      ],
      "source": [
        "print('Test accuracy:', UDA_compute_accuracy(predicted_test_labels, test_labels))"
      ]
    },
    {
      "cell_type": "code",
      "execution_count": null,
      "metadata": {
        "id": "yPyLQTpTDlxf",
        "outputId": "65f51330-749c-47bc-d65c-6cf96503bfcd"
      },
      "outputs": [
        {
          "data": {
            "text/plain": [
              "tensor([1])"
            ]
          },
          "execution_count": 29,
          "metadata": {},
          "output_type": "execute_result"
        }
      ],
      "source": [
        "UDA_pytorch_classifier_predict(simple_lstm_model,\n",
        "                               [encoder.encode('this movie rocks')],\n",
        "                               sequence=True)"
      ]
    },
    {
      "cell_type": "code",
      "execution_count": null,
      "metadata": {
        "id": "5u9PTzX_Dlxf",
        "outputId": "1cb5cf51-2d0c-4d72-fbb8-ac1e11651282"
      },
      "outputs": [
        {
          "data": {
            "text/plain": [
              "tensor([0])"
            ]
          },
          "execution_count": 30,
          "metadata": {},
          "output_type": "execute_result"
        }
      ],
      "source": [
        "UDA_pytorch_classifier_predict(simple_lstm_model,\n",
        "                               [encoder.encode('this movie sucks')],\n",
        "                               sequence=True)"
      ]
    },
    {
      "cell_type": "code",
      "execution_count": null,
      "metadata": {
        "id": "8Eqd2hr6Dlxf",
        "outputId": "2424ea92-0677-4386-e69e-dfd194ed92cb"
      },
      "outputs": [
        {
          "data": {
            "text/plain": [
              "tensor([0])"
            ]
          },
          "execution_count": 31,
          "metadata": {},
          "output_type": "execute_result"
        }
      ],
      "source": [
        "UDA_pytorch_classifier_predict(simple_lstm_model,\n",
        "                               [encoder.encode('this sucks')],\n",
        "                               sequence=True)"
      ]
    }
  ],
  "metadata": {
    "anaconda-cloud": {},
    "kernelspec": {
      "display_name": "Python 3",
      "language": "python",
      "name": "python3"
    },
    "language_info": {
      "codemirror_mode": {
        "name": "ipython",
        "version": 3
      },
      "file_extension": ".py",
      "mimetype": "text/x-python",
      "name": "python",
      "nbconvert_exporter": "python",
      "pygments_lexer": "ipython3",
      "version": "3.8.5"
    },
    "colab": {
      "provenance": []
    }
  },
  "nbformat": 4,
  "nbformat_minor": 0
}